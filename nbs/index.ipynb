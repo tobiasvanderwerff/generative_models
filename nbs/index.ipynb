{
 "cells": [
  {
   "cell_type": "code",
   "execution_count": null,
   "metadata": {},
   "outputs": [],
   "source": [
    "#| hide\n",
    "from generative_models.data import *\n",
    "from generative_models.autoencoder import *"
   ]
  },
  {
   "attachments": {},
   "cell_type": "markdown",
   "metadata": {},
   "source": [
    "# Generative models\n",
    "\n",
    "> Exploring generative neural nets, for learning purposes, while trying out [nbdev](https://github.com/fastai/nbdev) at the same time"
   ]
  },
  {
   "cell_type": "markdown",
   "metadata": {},
   "source": [
    "## Install"
   ]
  },
  {
   "attachments": {},
   "cell_type": "markdown",
   "metadata": {},
   "source": [
    "```sh\n",
    "pip install -e .\n",
    "```"
   ]
  },
  {
   "attachments": {},
   "cell_type": "markdown",
   "metadata": {},
   "source": [
    "## How to use"
   ]
  },
  {
   "cell_type": "markdown",
   "metadata": {},
   "source": [
    "See the notebooks in `nbs/` to get started. Table of contents:\n",
    "\n",
    "- `nbs/00_data.ipynb`: setting up MNIST and Fashion MNIST \n",
    "- `nbs/01_autoencoder.ipynb`: first generative model, the autoencoder\n",
    "\n",
    "Run `nbdev_preview` to view documentation."
   ]
  },
  {
   "cell_type": "markdown",
   "metadata": {},
   "source": [
    "e\n",
    "See the notebooks in `nbs/` to get started. Table of contents:\n",
    "\n",
    "- `nbs/00_data.ipynb`: setting up MNIST and Fashion MNIST \n",
    "- `nbs/01_autoencoder.ipynb`: first generative model, the autoencoder\n",
    "\n",
    "Run `nbdev_preview` to view documentation."
   ]
  },
  {
   "attachments": {},
   "cell_type": "markdown",
   "metadata": {},
   "source": [
    "## Resources"
   ]
  },
  {
   "attachments": {},
   "cell_type": "markdown",
   "metadata": {},
   "source": [
    "- [cs231n Lecture 13](https://www.youtube.com/watch?v=5WoItGTWV54)\n",
    "- [VAE paper](https://arxiv.org/abs/1312.6114) (tough read)\n",
    "- [Diffusion paper](https://arxiv.org/abs/1503.03585)\n",
    "- Deep learning book, chapter 14 (Autoencoders)\n",
    "- Deep learning book, chapter 20.10.3 (Variational Autoencoders)"
   ]
  },
  {
   "attachments": {},
   "cell_type": "markdown",
   "metadata": {},
   "source": [
    "## TODO"
   ]
  },
  {
   "cell_type": "markdown",
   "metadata": {},
   "source": [
    "- [ ] set up toy datasets: MNIST & Fashion MNIST\n",
    "- [ ] autoencoder\n",
    "- [ ] VAE\n",
    "- [ ] VAE: visualize data manifold for latent variables\n",
    "- [ ] diffusion (optional)"
   ]
  },
  {
   "cell_type": "code",
   "execution_count": null,
   "metadata": {},
   "outputs": [],
   "source": []
  }
 ],
 "metadata": {
  "kernelspec": {
   "display_name": "py39",
   "language": "python",
   "name": "python3"
  }
 },
 "nbformat": 4,
 "nbformat_minor": 4
}
